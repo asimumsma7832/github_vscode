{
 "cells": [
  {
   "cell_type": "markdown",
   "id": "269bf61b",
   "metadata": {},
   "source": [
    "# Indexing in Jupyter Notebook"
   ]
  },
  {
   "cell_type": "code",
   "execution_count": 1,
   "id": "6eabfc7e",
   "metadata": {},
   "outputs": [
    {
     "data": {
      "text/plain": [
       "'Muhammad Asim Usman Gul'"
      ]
     },
     "execution_count": 1,
     "metadata": {},
     "output_type": "execute_result"
    }
   ],
   "source": [
    "a= 'Muhammad Asim Usman Gul'\n",
    "a"
   ]
  },
  {
   "cell_type": "code",
   "execution_count": 2,
   "id": "e0196783",
   "metadata": {},
   "outputs": [
    {
     "data": {
      "text/plain": [
       "'a'"
      ]
     },
     "execution_count": 2,
     "metadata": {},
     "output_type": "execute_result"
    }
   ],
   "source": [
    "a[6]"
   ]
  },
  {
   "cell_type": "code",
   "execution_count": 3,
   "id": "bb8cc254",
   "metadata": {},
   "outputs": [
    {
     "data": {
      "text/plain": [
       "'d'"
      ]
     },
     "execution_count": 3,
     "metadata": {},
     "output_type": "execute_result"
    }
   ],
   "source": [
    "a[7]"
   ]
  },
  {
   "cell_type": "code",
   "execution_count": 4,
   "id": "7a337d98",
   "metadata": {},
   "outputs": [
    {
     "data": {
      "text/plain": [
       "23"
      ]
     },
     "execution_count": 4,
     "metadata": {},
     "output_type": "execute_result"
    }
   ],
   "source": [
    "# Length of string\n",
    "len(a)"
   ]
  },
  {
   "cell_type": "code",
   "execution_count": 5,
   "id": "0c23e38f",
   "metadata": {},
   "outputs": [
    {
     "data": {
      "text/plain": [
       "'Muhammad Asim'"
      ]
     },
     "execution_count": 5,
     "metadata": {},
     "output_type": "execute_result"
    }
   ],
   "source": [
    "a[0:13]"
   ]
  },
  {
   "cell_type": "code",
   "execution_count": 6,
   "id": "00b32ded",
   "metadata": {},
   "outputs": [
    {
     "data": {
      "text/plain": [
       "'i'"
      ]
     },
     "execution_count": 6,
     "metadata": {},
     "output_type": "execute_result"
    }
   ],
   "source": [
    "a[-12]"
   ]
  },
  {
   "cell_type": "code",
   "execution_count": 7,
   "id": "60fa4c7b",
   "metadata": {},
   "outputs": [
    {
     "data": {
      "text/plain": [
       "'im U'"
      ]
     },
     "execution_count": 7,
     "metadata": {},
     "output_type": "execute_result"
    }
   ],
   "source": [
    "a[-12:-8]"
   ]
  },
  {
   "cell_type": "markdown",
   "id": "745f3ede",
   "metadata": {},
   "source": [
    "## String Methods"
   ]
  },
  {
   "cell_type": "code",
   "execution_count": 8,
   "id": "fcad6c8b",
   "metadata": {},
   "outputs": [
    {
     "data": {
      "text/plain": [
       "'mangoes'"
      ]
     },
     "execution_count": 8,
     "metadata": {},
     "output_type": "execute_result"
    }
   ],
   "source": [
    "food = \"mangoes\"\n",
    "food"
   ]
  },
  {
   "cell_type": "code",
   "execution_count": 9,
   "id": "f33854ce",
   "metadata": {},
   "outputs": [
    {
     "data": {
      "text/plain": [
       "7"
      ]
     },
     "execution_count": 9,
     "metadata": {},
     "output_type": "execute_result"
    }
   ],
   "source": [
    "len(food)"
   ]
  },
  {
   "cell_type": "code",
   "execution_count": 10,
   "id": "fde9fe67",
   "metadata": {},
   "outputs": [
    {
     "data": {
      "text/plain": [
       "'mangoes'"
      ]
     },
     "execution_count": 10,
     "metadata": {},
     "output_type": "execute_result"
    }
   ],
   "source": [
    "food"
   ]
  },
  {
   "cell_type": "markdown",
   "id": "0b47f323",
   "metadata": {},
   "source": [
    "## Capitalize"
   ]
  },
  {
   "cell_type": "code",
   "execution_count": 11,
   "id": "f1418377",
   "metadata": {},
   "outputs": [
    {
     "data": {
      "text/plain": [
       "'Mangoes'"
      ]
     },
     "execution_count": 11,
     "metadata": {},
     "output_type": "execute_result"
    }
   ],
   "source": [
    "food.capitalize()"
   ]
  },
  {
   "cell_type": "markdown",
   "id": "406d70e7",
   "metadata": {},
   "source": [
    "## Uppercase"
   ]
  },
  {
   "cell_type": "code",
   "execution_count": 12,
   "id": "f220cc62",
   "metadata": {},
   "outputs": [
    {
     "data": {
      "text/plain": [
       "'MANGOES'"
      ]
     },
     "execution_count": 12,
     "metadata": {},
     "output_type": "execute_result"
    }
   ],
   "source": [
    "food.upper()"
   ]
  },
  {
   "cell_type": "markdown",
   "id": "997bbb4f",
   "metadata": {},
   "source": [
    "## Lowercase"
   ]
  },
  {
   "cell_type": "code",
   "execution_count": 13,
   "id": "7427d8fd",
   "metadata": {
    "scrolled": true
   },
   "outputs": [
    {
     "data": {
      "text/plain": [
       "'mangoes'"
      ]
     },
     "execution_count": 13,
     "metadata": {},
     "output_type": "execute_result"
    }
   ],
   "source": [
    "food.lower()"
   ]
  },
  {
   "cell_type": "markdown",
   "id": "600eaffb",
   "metadata": {},
   "source": [
    "## Replace"
   ]
  },
  {
   "cell_type": "code",
   "execution_count": 14,
   "id": "dec80629",
   "metadata": {},
   "outputs": [
    {
     "data": {
      "text/plain": [
       "'tangoes'"
      ]
     },
     "execution_count": 14,
     "metadata": {},
     "output_type": "execute_result"
    }
   ],
   "source": [
    "food.replace(\"m\",\"t\")"
   ]
  },
  {
   "cell_type": "markdown",
   "id": "85866ef9",
   "metadata": {},
   "source": [
    "## Counting specific alphabet in string"
   ]
  },
  {
   "cell_type": "code",
   "execution_count": 15,
   "id": "812580e9",
   "metadata": {},
   "outputs": [
    {
     "data": {
      "text/plain": [
       "1"
      ]
     },
     "execution_count": 15,
     "metadata": {},
     "output_type": "execute_result"
    }
   ],
   "source": [
    "food.count(\"e\")"
   ]
  },
  {
   "cell_type": "markdown",
   "id": "561bf9df",
   "metadata": {},
   "source": [
    "## Finding an index number in string"
   ]
  },
  {
   "cell_type": "code",
   "execution_count": 16,
   "id": "3e60fcc2",
   "metadata": {},
   "outputs": [
    {
     "data": {
      "text/plain": [
       "4"
      ]
     },
     "execution_count": 16,
     "metadata": {},
     "output_type": "execute_result"
    }
   ],
   "source": [
    "food.find(\"o\")"
   ]
  },
  {
   "cell_type": "markdown",
   "id": "76e2b383",
   "metadata": {},
   "source": [
    "## Split Strings"
   ]
  },
  {
   "cell_type": "code",
   "execution_count": 17,
   "id": "6861e7ca",
   "metadata": {},
   "outputs": [
    {
     "data": {
      "text/plain": [
       "'Laila, Zafar, Ammara, Asim, Hina, Rafia'"
      ]
     },
     "execution_count": 17,
     "metadata": {},
     "output_type": "execute_result"
    }
   ],
   "source": [
    "family = \"Laila, Zafar, Ammara, Asim, Hina, Rafia\"\n",
    "family"
   ]
  },
  {
   "cell_type": "code",
   "execution_count": 18,
   "id": "aac8585d",
   "metadata": {
    "scrolled": true
   },
   "outputs": [
    {
     "data": {
      "text/plain": [
       "['Laila', ' Zafar', ' Ammara', ' Asim', ' Hina', ' Rafia']"
      ]
     },
     "execution_count": 18,
     "metadata": {},
     "output_type": "execute_result"
    }
   ],
   "source": [
    "family.split(\",\")"
   ]
  },
  {
   "cell_type": "markdown",
   "id": "b4baad96",
   "metadata": {},
   "source": [
    "## Basic Data Structure in Python\n",
    "- Tuple\n",
    "- List\n",
    "- Dictionaries\n",
    "- Set"
   ]
  },
  {
   "cell_type": "markdown",
   "id": "66bce8c0",
   "metadata": {},
   "source": [
    "### 1- Tuple\n",
    "- ordered collection of elements\n",
    "- enclosed in round() braces/paranthesis\n",
    "- different kind of elements can be stored\n",
    "- once element is stored, you cannot change it (unmuteable)"
   ]
  },
  {
   "cell_type": "code",
   "execution_count": 2,
   "id": "e8bc6132",
   "metadata": {},
   "outputs": [
    {
     "data": {
      "text/plain": [
       "(23, 'Asim Gul', True, False, 45.7)"
      ]
     },
     "execution_count": 2,
     "metadata": {},
     "output_type": "execute_result"
    }
   ],
   "source": [
    "tup1= (23, \"Asim Gul\", True, False,  45.7)\n",
    "tup1"
   ]
  },
  {
   "cell_type": "code",
   "execution_count": 3,
   "id": "0f6f725f",
   "metadata": {},
   "outputs": [
    {
     "data": {
      "text/plain": [
       "tuple"
      ]
     },
     "execution_count": 3,
     "metadata": {},
     "output_type": "execute_result"
    }
   ],
   "source": [
    "## find type of tuple\n",
    "type(tup1)"
   ]
  },
  {
   "cell_type": "markdown",
   "id": "4bae6c2c",
   "metadata": {},
   "source": [
    "### Indexing in Tuple"
   ]
  },
  {
   "cell_type": "code",
   "execution_count": 4,
   "id": "fad64c84",
   "metadata": {},
   "outputs": [
    {
     "data": {
      "text/plain": [
       "False"
      ]
     },
     "execution_count": 4,
     "metadata": {},
     "output_type": "execute_result"
    }
   ],
   "source": [
    "tup1[3]"
   ]
  },
  {
   "cell_type": "code",
   "execution_count": 5,
   "id": "f35408f5",
   "metadata": {},
   "outputs": [
    {
     "data": {
      "text/plain": [
       "5"
      ]
     },
     "execution_count": 5,
     "metadata": {},
     "output_type": "execute_result"
    }
   ],
   "source": [
    "len(tup1)"
   ]
  },
  {
   "cell_type": "code",
   "execution_count": 11,
   "id": "1d70b4e5",
   "metadata": {},
   "outputs": [
    {
     "data": {
      "text/plain": [
       "(23, 'Asim Gul', True, False)"
      ]
     },
     "execution_count": 11,
     "metadata": {},
     "output_type": "execute_result"
    }
   ],
   "source": [
    "## last element is sexclusive \n",
    "tup1[0:4]"
   ]
  },
  {
   "cell_type": "code",
   "execution_count": 12,
   "id": "0ca65075",
   "metadata": {},
   "outputs": [
    {
     "data": {
      "text/plain": [
       "('Hello', 123, 'Testing', 98.6)"
      ]
     },
     "execution_count": 12,
     "metadata": {},
     "output_type": "execute_result"
    }
   ],
   "source": [
    "tup2 = (\"Hello\", 123, \"Testing\", 98.60)\n",
    "tup2"
   ]
  },
  {
   "cell_type": "code",
   "execution_count": 13,
   "id": "7cccc702",
   "metadata": {},
   "outputs": [
    {
     "data": {
      "text/plain": [
       "(23, 'Asim Gul', True, False, 45.7, 'Hello', 123, 'Testing', 98.6)"
      ]
     },
     "execution_count": 13,
     "metadata": {},
     "output_type": "execute_result"
    }
   ],
   "source": [
    "## Concatinate \n",
    "tup1 + tup2"
   ]
  },
  {
   "cell_type": "code",
   "execution_count": 14,
   "id": "ca46622e",
   "metadata": {},
   "outputs": [
    {
     "data": {
      "text/plain": [
       "(23,\n",
       " 'Asim Gul',\n",
       " True,\n",
       " False,\n",
       " 45.7,\n",
       " 23,\n",
       " 'Asim Gul',\n",
       " True,\n",
       " False,\n",
       " 45.7,\n",
       " 'Hello',\n",
       " 123,\n",
       " 'Testing',\n",
       " 98.6)"
      ]
     },
     "execution_count": 14,
     "metadata": {},
     "output_type": "execute_result"
    }
   ],
   "source": [
    "tup1*2 + tup2"
   ]
  },
  {
   "cell_type": "code",
   "execution_count": 15,
   "id": "268f9373",
   "metadata": {},
   "outputs": [
    {
     "data": {
      "text/plain": [
       "('Hello',\n",
       " 123,\n",
       " 'Testing',\n",
       " 98.6,\n",
       " 'Hello',\n",
       " 123,\n",
       " 'Testing',\n",
       " 98.6,\n",
       " 'Hello',\n",
       " 123,\n",
       " 'Testing',\n",
       " 98.6)"
      ]
     },
     "execution_count": 15,
     "metadata": {},
     "output_type": "execute_result"
    }
   ],
   "source": [
    "tup2*2+ tup2"
   ]
  },
  {
   "cell_type": "code",
   "execution_count": 16,
   "id": "10563ee4",
   "metadata": {},
   "outputs": [
    {
     "data": {
      "text/plain": [
       "(12, 45, 25, 36, 211, 45, 98)"
      ]
     },
     "execution_count": 16,
     "metadata": {},
     "output_type": "execute_result"
    }
   ],
   "source": [
    "tup3 = (12,45,25,36,211,45,98)\n",
    "tup3"
   ]
  },
  {
   "cell_type": "code",
   "execution_count": 17,
   "id": "6770c757",
   "metadata": {},
   "outputs": [
    {
     "data": {
      "text/plain": [
       "12"
      ]
     },
     "execution_count": 17,
     "metadata": {},
     "output_type": "execute_result"
    }
   ],
   "source": [
    "min(tup3)"
   ]
  },
  {
   "cell_type": "code",
   "execution_count": 18,
   "id": "0a0e128b",
   "metadata": {},
   "outputs": [
    {
     "data": {
      "text/plain": [
       "211"
      ]
     },
     "execution_count": 18,
     "metadata": {},
     "output_type": "execute_result"
    }
   ],
   "source": [
    "max(tup3)"
   ]
  },
  {
   "cell_type": "code",
   "execution_count": 19,
   "id": "0b5c6bc3",
   "metadata": {},
   "outputs": [
    {
     "data": {
      "text/plain": [
       "7"
      ]
     },
     "execution_count": 19,
     "metadata": {},
     "output_type": "execute_result"
    }
   ],
   "source": [
    "len(tup3)"
   ]
  },
  {
   "cell_type": "code",
   "execution_count": 20,
   "id": "98d89a3c",
   "metadata": {},
   "outputs": [
    {
     "data": {
      "text/plain": [
       "9"
      ]
     },
     "execution_count": 20,
     "metadata": {},
     "output_type": "execute_result"
    }
   ],
   "source": [
    "len(tup1) + len(tup2) "
   ]
  },
  {
   "cell_type": "code",
   "execution_count": 22,
   "id": "9f8b1ea4",
   "metadata": {},
   "outputs": [
    {
     "data": {
      "text/plain": [
       "16"
      ]
     },
     "execution_count": 22,
     "metadata": {},
     "output_type": "execute_result"
    }
   ],
   "source": [
    "len(tup1) + len(tup2) + len(tup3)"
   ]
  },
  {
   "cell_type": "code",
   "execution_count": 23,
   "id": "e6c203d1",
   "metadata": {},
   "outputs": [
    {
     "data": {
      "text/plain": [
       "21"
      ]
     },
     "execution_count": 23,
     "metadata": {},
     "output_type": "execute_result"
    }
   ],
   "source": [
    "len(tup1)*2 + len(tup2) + len(tup3)"
   ]
  },
  {
   "cell_type": "markdown",
   "id": "ccf74165",
   "metadata": {},
   "source": [
    "*We cannot replace or change in Tuple*"
   ]
  },
  {
   "cell_type": "markdown",
   "id": "be9f6cea",
   "metadata": {},
   "source": [
    "---\n"
   ]
  },
  {
   "cell_type": "markdown",
   "id": "5595c0b0",
   "metadata": {},
   "source": [
    "## 2- List\n",
    "- ordered collection of elements\n",
    "- enclosed in [ ] square brackets\n",
    "- you can change the values (mutateable)"
   ]
  },
  {
   "cell_type": "code",
   "execution_count": 42,
   "id": "8264db84",
   "metadata": {},
   "outputs": [
    {
     "data": {
      "text/plain": [
       "[98, 'Asim', True, 45.9]"
      ]
     },
     "execution_count": 42,
     "metadata": {},
     "output_type": "execute_result"
    }
   ],
   "source": [
    "list1 = [98,\"Asim\", True, 45.9]\n",
    "list1"
   ]
  },
  {
   "cell_type": "code",
   "execution_count": 26,
   "id": "c49e4237",
   "metadata": {},
   "outputs": [
    {
     "data": {
      "text/plain": [
       "['Hello', 23, 32.2]"
      ]
     },
     "execution_count": 26,
     "metadata": {},
     "output_type": "execute_result"
    }
   ],
   "source": [
    "list2 = [\"Hello\", 23, 32.2]\n",
    "list2"
   ]
  },
  {
   "cell_type": "code",
   "execution_count": 28,
   "id": "815ebc4a",
   "metadata": {},
   "outputs": [
    {
     "data": {
      "text/plain": [
       "[98, 'Asim', True, 45.9, 'Hello', 23, 32.2, 'Hello', 23, 32.2]"
      ]
     },
     "execution_count": 28,
     "metadata": {},
     "output_type": "execute_result"
    }
   ],
   "source": [
    "list1 + list2*2\n"
   ]
  },
  {
   "cell_type": "code",
   "execution_count": 29,
   "id": "a1c28e50",
   "metadata": {},
   "outputs": [
    {
     "data": {
      "text/plain": [
       "4"
      ]
     },
     "execution_count": 29,
     "metadata": {},
     "output_type": "execute_result"
    }
   ],
   "source": [
    "len(list1)"
   ]
  },
  {
   "cell_type": "code",
   "execution_count": null,
   "id": "58619d8f",
   "metadata": {},
   "outputs": [],
   "source": [
    "list3 = [25,45,125,458,789,5214,4646]"
   ]
  },
  {
   "cell_type": "code",
   "execution_count": 34,
   "id": "42d88c46",
   "metadata": {},
   "outputs": [
    {
     "data": {
      "text/plain": [
       "5214"
      ]
     },
     "execution_count": 34,
     "metadata": {},
     "output_type": "execute_result"
    }
   ],
   "source": [
    "max(list3)"
   ]
  },
  {
   "cell_type": "code",
   "execution_count": 35,
   "id": "fec339b2",
   "metadata": {},
   "outputs": [
    {
     "data": {
      "text/plain": [
       "25"
      ]
     },
     "execution_count": 35,
     "metadata": {},
     "output_type": "execute_result"
    }
   ],
   "source": [
    "min(list3)"
   ]
  },
  {
   "cell_type": "markdown",
   "id": "b6a68fe8",
   "metadata": {},
   "source": [
    "*We can replace remove, reverse and other functions in list as described below*"
   ]
  },
  {
   "cell_type": "code",
   "execution_count": 41,
   "id": "f22db3f6",
   "metadata": {},
   "outputs": [
    {
     "data": {
      "text/plain": [
       "[98,\n",
       " 'Asim',\n",
       " True,\n",
       " 45.9,\n",
       " ['Hello', 23, 32.2],\n",
       " ['Hello', 23, 32.2],\n",
       " 'list2',\n",
       " 'jfkj',\n",
       " 'Hello!',\n",
       " 'Hello!']"
      ]
     },
     "execution_count": 41,
     "metadata": {},
     "output_type": "execute_result"
    }
   ],
   "source": [
    "list1.append(\"Hello!\")\n",
    "list1"
   ]
  },
  {
   "cell_type": "code",
   "execution_count": 43,
   "id": "5851b1a8",
   "metadata": {
    "scrolled": true
   },
   "outputs": [
    {
     "data": {
      "text/plain": [
       "[98, 'Asim', True, 45.9, 'Hello!']"
      ]
     },
     "execution_count": 43,
     "metadata": {},
     "output_type": "execute_result"
    }
   ],
   "source": [
    "list1.append(\"Hello!\")\n",
    "list1"
   ]
  },
  {
   "cell_type": "code",
   "execution_count": 9,
   "id": "0a8e9e44",
   "metadata": {},
   "outputs": [
    {
     "data": {
      "text/plain": [
       "[98, 'Asim', True, 45.9]"
      ]
     },
     "execution_count": 9,
     "metadata": {},
     "output_type": "execute_result"
    }
   ],
   "source": [
    "list1"
   ]
  },
  {
   "cell_type": "code",
   "execution_count": 50,
   "id": "fb9fa743",
   "metadata": {},
   "outputs": [],
   "source": [
    "list1.clear()"
   ]
  },
  {
   "cell_type": "code",
   "execution_count": 52,
   "id": "710d553e",
   "metadata": {},
   "outputs": [
    {
     "data": {
      "text/plain": [
       "[]"
      ]
     },
     "execution_count": 52,
     "metadata": {},
     "output_type": "execute_result"
    }
   ],
   "source": [
    "list1"
   ]
  },
  {
   "cell_type": "code",
   "execution_count": 53,
   "id": "4d61dd15",
   "metadata": {},
   "outputs": [
    {
     "data": {
      "text/plain": [
       "[98, 'Asim', True, 45.9]"
      ]
     },
     "execution_count": 53,
     "metadata": {},
     "output_type": "execute_result"
    }
   ],
   "source": [
    "list1 = [98,\"Asim\", True, 45.9]\n",
    "list1"
   ]
  },
  {
   "cell_type": "code",
   "execution_count": 54,
   "id": "90758d26",
   "metadata": {},
   "outputs": [
    {
     "data": {
      "text/plain": [
       "[98, 'Asim', True, 45.9]"
      ]
     },
     "execution_count": 54,
     "metadata": {},
     "output_type": "execute_result"
    }
   ],
   "source": [
    "list1.copy()"
   ]
  },
  {
   "cell_type": "code",
   "execution_count": 56,
   "id": "9133a468",
   "metadata": {},
   "outputs": [
    {
     "data": {
      "text/plain": [
       "0"
      ]
     },
     "execution_count": 56,
     "metadata": {},
     "output_type": "execute_result"
    }
   ],
   "source": [
    "list1.count(int)"
   ]
  },
  {
   "cell_type": "code",
   "execution_count": 57,
   "id": "3e957e82",
   "metadata": {},
   "outputs": [
    {
     "data": {
      "text/plain": [
       "1"
      ]
     },
     "execution_count": 57,
     "metadata": {},
     "output_type": "execute_result"
    }
   ],
   "source": [
    "list1.count(98)"
   ]
  },
  {
   "cell_type": "code",
   "execution_count": 59,
   "id": "5a7ec609",
   "metadata": {},
   "outputs": [
    {
     "data": {
      "text/plain": [
       "1"
      ]
     },
     "execution_count": 59,
     "metadata": {},
     "output_type": "execute_result"
    }
   ],
   "source": [
    "list1.count(\"Asim\")"
   ]
  },
  {
   "cell_type": "markdown",
   "id": "cdbca578",
   "metadata": {},
   "source": [
    "*In count function in list count elements like (98) is 1st element (\"Asim\") is other element*"
   ]
  },
  {
   "cell_type": "code",
   "execution_count": 69,
   "id": "090bd361",
   "metadata": {},
   "outputs": [],
   "source": [
    "list1.clear()"
   ]
  },
  {
   "cell_type": "code",
   "execution_count": 8,
   "id": "673feb03",
   "metadata": {},
   "outputs": [
    {
     "data": {
      "text/plain": [
       "[98, 'Asim', True, 45.9]"
      ]
     },
     "execution_count": 8,
     "metadata": {},
     "output_type": "execute_result"
    }
   ],
   "source": [
    "list1 = [98,\"Asim\", True, 45.9]\n",
    "list1"
   ]
  },
  {
   "cell_type": "code",
   "execution_count": 76,
   "id": "d521def1",
   "metadata": {},
   "outputs": [
    {
     "data": {
      "text/plain": [
       "[98, 'Asim', True, 45.9, 'I', ' ', 'A', 'M', 'm', '7', '7', '8']"
      ]
     },
     "execution_count": 76,
     "metadata": {},
     "output_type": "execute_result"
    }
   ],
   "source": [
    "list1.extend(\"78\")\n",
    "list1"
   ]
  },
  {
   "cell_type": "code",
   "execution_count": 78,
   "id": "efb06a98",
   "metadata": {},
   "outputs": [
    {
     "data": {
      "text/plain": [
       "0"
      ]
     },
     "execution_count": 78,
     "metadata": {},
     "output_type": "execute_result"
    }
   ],
   "source": [
    "list1.index(98)"
   ]
  },
  {
   "cell_type": "code",
   "execution_count": 79,
   "id": "4616e257",
   "metadata": {},
   "outputs": [
    {
     "data": {
      "text/plain": [
       "1"
      ]
     },
     "execution_count": 79,
     "metadata": {},
     "output_type": "execute_result"
    }
   ],
   "source": [
    "list1.index(\"Asim\")"
   ]
  },
  {
   "cell_type": "code",
   "execution_count": 80,
   "id": "93fd3726",
   "metadata": {},
   "outputs": [
    {
     "data": {
      "text/plain": [
       "2"
      ]
     },
     "execution_count": 80,
     "metadata": {},
     "output_type": "execute_result"
    }
   ],
   "source": [
    "list1.index(True)"
   ]
  },
  {
   "cell_type": "code",
   "execution_count": 82,
   "id": "abfc2a2f",
   "metadata": {},
   "outputs": [
    {
     "data": {
      "text/plain": [
       "45.9"
      ]
     },
     "execution_count": 82,
     "metadata": {},
     "output_type": "execute_result"
    }
   ],
   "source": [
    "list1.pop()"
   ]
  },
  {
   "cell_type": "code",
   "execution_count": 85,
   "id": "94826b5c",
   "metadata": {},
   "outputs": [
    {
     "data": {
      "text/plain": [
       "[25, 45, 125, 458, 789, 5214, 4646]"
      ]
     },
     "execution_count": 85,
     "metadata": {},
     "output_type": "execute_result"
    }
   ],
   "source": [
    "list3"
   ]
  },
  {
   "cell_type": "code",
   "execution_count": 86,
   "id": "5fba7b8e",
   "metadata": {},
   "outputs": [
    {
     "data": {
      "text/plain": [
       "[25, 45, 125, 458, 789, 4646, 5214]"
      ]
     },
     "execution_count": 86,
     "metadata": {},
     "output_type": "execute_result"
    }
   ],
   "source": [
    "## Sorting in list\n",
    "list3.sort()\n",
    "list3"
   ]
  },
  {
   "cell_type": "code",
   "execution_count": 88,
   "id": "7e4ced39",
   "metadata": {},
   "outputs": [],
   "source": [
    "list3.reverse()\n"
   ]
  },
  {
   "cell_type": "code",
   "execution_count": 89,
   "id": "fbc172d3",
   "metadata": {},
   "outputs": [
    {
     "data": {
      "text/plain": [
       "[5214, 4646, 789, 458, 125, 45, 25]"
      ]
     },
     "execution_count": 89,
     "metadata": {},
     "output_type": "execute_result"
    }
   ],
   "source": [
    "list3"
   ]
  },
  {
   "cell_type": "code",
   "execution_count": 90,
   "id": "8f242724",
   "metadata": {},
   "outputs": [],
   "source": [
    "lists = list1 + list2 + list3"
   ]
  },
  {
   "cell_type": "code",
   "execution_count": 91,
   "id": "20285091",
   "metadata": {},
   "outputs": [
    {
     "data": {
      "text/plain": [
       "[98, 'Asim', True, 'Hello', 23, 32.2, 5214, 4646, 789, 458, 125, 45, 25]"
      ]
     },
     "execution_count": 91,
     "metadata": {},
     "output_type": "execute_result"
    }
   ],
   "source": [
    "lists"
   ]
  },
  {
   "cell_type": "markdown",
   "id": "ac696959",
   "metadata": {},
   "source": [
    "---"
   ]
  },
  {
   "cell_type": "markdown",
   "id": "451077d5",
   "metadata": {},
   "source": [
    "## 3- Dictionaries\n",
    "- an unordered collection of data \n",
    "- key and value\n",
    "- only braces or brackets { }\n",
    "- muteable/ you can change the value"
   ]
  },
  {
   "cell_type": "code",
   "execution_count": 92,
   "id": "06dadbf4",
   "metadata": {},
   "outputs": [
    {
     "data": {
      "text/plain": [
       "{'Samosy': 90, 'Pakory': 80, 'Salad': 19, 'Raita': 45}"
      ]
     },
     "execution_count": 92,
     "metadata": {},
     "output_type": "execute_result"
    }
   ],
   "source": [
    "# Food and their prices list \n",
    "food1 = {\"Samosy\":90, \"Pakory\":80, \"Salad\":19, \"Raita\":45}\n",
    "food1"
   ]
  },
  {
   "cell_type": "code",
   "execution_count": 93,
   "id": "369f8235",
   "metadata": {},
   "outputs": [
    {
     "data": {
      "text/plain": [
       "dict"
      ]
     },
     "execution_count": 93,
     "metadata": {},
     "output_type": "execute_result"
    }
   ],
   "source": [
    "type(food1)"
   ]
  },
  {
   "cell_type": "code",
   "execution_count": 95,
   "id": "59bffe2d",
   "metadata": {},
   "outputs": [
    {
     "data": {
      "text/plain": [
       "dict_keys(['Samosy', 'Pakory', 'Salad', 'Raita'])"
      ]
     },
     "execution_count": 95,
     "metadata": {},
     "output_type": "execute_result"
    }
   ],
   "source": [
    "## Extract data\n",
    "food1.keys()"
   ]
  },
  {
   "cell_type": "code",
   "execution_count": 96,
   "id": "af1c74ff",
   "metadata": {},
   "outputs": [
    {
     "data": {
      "text/plain": [
       "dict_values([90, 80, 19, 45])"
      ]
     },
     "execution_count": 96,
     "metadata": {},
     "output_type": "execute_result"
    }
   ],
   "source": [
    "food1.values()"
   ]
  },
  {
   "cell_type": "code",
   "execution_count": 98,
   "id": "30753b4a",
   "metadata": {},
   "outputs": [],
   "source": [
    "## Adding in new element\n",
    "food1[\"Tikki\"]=30"
   ]
  },
  {
   "cell_type": "code",
   "execution_count": 99,
   "id": "9f0458a9",
   "metadata": {},
   "outputs": [
    {
     "data": {
      "text/plain": [
       "{'Samosy': 90, 'Pakory': 80, 'Salad': 19, 'Raita': 45, 'Tikki': 30}"
      ]
     },
     "execution_count": 99,
     "metadata": {},
     "output_type": "execute_result"
    }
   ],
   "source": [
    "food1"
   ]
  },
  {
   "cell_type": "code",
   "execution_count": 100,
   "id": "73458c79",
   "metadata": {},
   "outputs": [
    {
     "data": {
      "text/plain": [
       "{'Samosy': 90, 'Pakory': 80, 'Salad': 19, 'Raita': 45, 'Tikki': 50}"
      ]
     },
     "execution_count": 100,
     "metadata": {},
     "output_type": "execute_result"
    }
   ],
   "source": [
    "## Update the values\n",
    "food1[\"Tikki\"]=50\n",
    "food1"
   ]
  },
  {
   "cell_type": "code",
   "execution_count": 101,
   "id": "d32db839",
   "metadata": {},
   "outputs": [
    {
     "data": {
      "text/plain": [
       "{'Dates': 80, 'Choclates': 90, 'Dahi': 60, 'Doodh': 70}"
      ]
     },
     "execution_count": 101,
     "metadata": {},
     "output_type": "execute_result"
    }
   ],
   "source": [
    "food2 = {\"Dates\":80, \"Choclates\":90, \"Dahi\":60, \"Doodh\":70}\n",
    "food2"
   ]
  },
  {
   "cell_type": "code",
   "execution_count": 102,
   "id": "5d3483a7",
   "metadata": {},
   "outputs": [],
   "source": [
    "## concatinate (In dictionarty cancatination is done by update function)\n",
    "\n",
    "food1.update(food2)"
   ]
  },
  {
   "cell_type": "code",
   "execution_count": 103,
   "id": "5c2d9246",
   "metadata": {},
   "outputs": [
    {
     "data": {
      "text/plain": [
       "{'Samosy': 90,\n",
       " 'Pakory': 80,\n",
       " 'Salad': 19,\n",
       " 'Raita': 45,\n",
       " 'Tikki': 50,\n",
       " 'Dates': 80,\n",
       " 'Choclates': 90,\n",
       " 'Dahi': 60,\n",
       " 'Doodh': 70}"
      ]
     },
     "execution_count": 103,
     "metadata": {},
     "output_type": "execute_result"
    }
   ],
   "source": [
    "food1"
   ]
  },
  {
   "cell_type": "markdown",
   "id": "26787f74",
   "metadata": {},
   "source": [
    "---"
   ]
  },
  {
   "cell_type": "markdown",
   "id": "6a2651d4",
   "metadata": {},
   "source": [
    "## 4- Sets\n",
    "- unordered and un indexed \n",
    "- curly braces are used { }\n",
    "- no duplicates allowed \n"
   ]
  },
  {
   "cell_type": "code",
   "execution_count": 104,
   "id": "a5e9327b",
   "metadata": {},
   "outputs": [
    {
     "data": {
      "text/plain": [
       "{56, 67.8, 'Ammara', 'Hina', 'Zafar'}"
      ]
     },
     "execution_count": 104,
     "metadata": {},
     "output_type": "execute_result"
    }
   ],
   "source": [
    "s1 = {56, 67.8, \"Zafar\", \"Hina\", \"Ammara\"}  \n",
    "s1"
   ]
  },
  {
   "cell_type": "code",
   "execution_count": 105,
   "id": "d42ee366",
   "metadata": {},
   "outputs": [
    {
     "data": {
      "text/plain": [
       "{56, 67.8, 'Ammara', 'Asim', 'Hina', 'Zafar'}"
      ]
     },
     "execution_count": 105,
     "metadata": {},
     "output_type": "execute_result"
    }
   ],
   "source": [
    "s1.add(\"Asim\")           ## Duplicates are not allowes i.e if you add \"Zafar\" then it will not print\n",
    "s1"
   ]
  },
  {
   "cell_type": "code",
   "execution_count": 106,
   "id": "89c975e9",
   "metadata": {},
   "outputs": [
    {
     "data": {
      "text/plain": [
       "{56, 67.8, 'Ammara', 'Asim', 'Hina', 'Zafar'}"
      ]
     },
     "execution_count": 106,
     "metadata": {},
     "output_type": "execute_result"
    }
   ],
   "source": [
    "s1.difference()"
   ]
  },
  {
   "cell_type": "code",
   "execution_count": 108,
   "id": "9ee069a4",
   "metadata": {},
   "outputs": [
    {
     "data": {
      "text/plain": [
       "{45, 78, 'Pappi'}"
      ]
     },
     "execution_count": 108,
     "metadata": {},
     "output_type": "execute_result"
    }
   ],
   "source": [
    "s2 = {\"Pappi\", 45, 78}\n",
    "s2"
   ]
  },
  {
   "cell_type": "code",
   "execution_count": 109,
   "id": "7f24f24b",
   "metadata": {},
   "outputs": [
    {
     "data": {
      "text/plain": [
       "set()"
      ]
     },
     "execution_count": 109,
     "metadata": {},
     "output_type": "execute_result"
    }
   ],
   "source": [
    "s1.intersection(s2)"
   ]
  },
  {
   "cell_type": "code",
   "execution_count": 110,
   "id": "90d46eba",
   "metadata": {},
   "outputs": [
    {
     "data": {
      "text/plain": [
       "{56, 67.8, 'Ammara', 'Asim', 'Hina', 'Zafar'}"
      ]
     },
     "execution_count": 110,
     "metadata": {},
     "output_type": "execute_result"
    }
   ],
   "source": [
    "s1"
   ]
  },
  {
   "cell_type": "code",
   "execution_count": null,
   "id": "1a6030e3",
   "metadata": {},
   "outputs": [],
   "source": []
  },
  {
   "cell_type": "code",
   "execution_count": null,
   "id": "c3da268c",
   "metadata": {},
   "outputs": [],
   "source": []
  },
  {
   "cell_type": "code",
   "execution_count": null,
   "id": "e89f49ab",
   "metadata": {},
   "outputs": [],
   "source": []
  },
  {
   "cell_type": "code",
   "execution_count": null,
   "id": "0fc4d743",
   "metadata": {},
   "outputs": [],
   "source": []
  }
 ],
 "metadata": {
  "kernelspec": {
   "display_name": "Python 3 (ipykernel)",
   "language": "python",
   "name": "python3"
  },
  "language_info": {
   "codemirror_mode": {
    "name": "ipython",
    "version": 3
   },
   "file_extension": ".py",
   "mimetype": "text/x-python",
   "name": "python",
   "nbconvert_exporter": "python",
   "pygments_lexer": "ipython3",
   "version": "3.9.12"
  }
 },
 "nbformat": 4,
 "nbformat_minor": 5
}
