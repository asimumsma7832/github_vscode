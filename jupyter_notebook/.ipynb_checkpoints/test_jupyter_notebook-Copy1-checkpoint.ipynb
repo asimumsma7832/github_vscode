{
 "cells": [
  {
   "cell_type": "markdown",
   "id": "c4e8155a",
   "metadata": {},
   "source": [
    "# Learning Python\n",
    "## How to use Jupyter Notebook\n",
    "### I am learning basics\n",
    "1- My first program\n",
    "2- My 2nd program"
   ]
  },
  {
   "cell_type": "markdown",
   "id": "52d7546f",
   "metadata": {},
   "source": [
    "## First Program"
   ]
  },
  {
   "cell_type": "code",
   "execution_count": 10,
   "id": "4fe00782",
   "metadata": {
    "scrolled": false
   },
   "outputs": [
    {
     "name": "stdout",
     "output_type": "stream",
     "text": [
      "5\n",
      "Hello World\n",
      "I am learning Python\n",
      "45\n",
      "4.0\n"
     ]
    }
   ],
   "source": [
    "print(2+3)\n",
    "print(\"Hello World\")\n",
    "print(\"I am learning Python\")\n",
    "print(5*9)\n",
    "print(8/2)"
   ]
  },
  {
   "cell_type": "markdown",
   "id": "dd1c5f39",
   "metadata": {},
   "source": [
    "## Second Program"
   ]
  },
  {
   "cell_type": "code",
   "execution_count": 11,
   "id": "fe7d2edf",
   "metadata": {},
   "outputs": [
    {
     "name": "stdout",
     "output_type": "stream",
     "text": [
      "What is your name? Asim\n",
      "What is your age? 12\n",
      "Hello! Asim\n"
     ]
    }
   ],
   "source": [
    "name=input(\"What is your name? \")\n",
    "age=input(\"What is your age? \")\n",
    "greetings= \"Hello!\"\n",
    "\n",
    "print(greetings,name,)"
   ]
  },
  {
   "cell_type": "markdown",
   "id": "f23d3c5f",
   "metadata": {},
   "source": [
    "## 3rd Program"
   ]
  },
  {
   "cell_type": "code",
   "execution_count": 12,
   "id": "e5d01538",
   "metadata": {},
   "outputs": [
    {
     "name": "stdout",
     "output_type": "stream",
     "text": [
      "What's your age son! 12\n",
      "You should join higher school\n"
     ]
    }
   ],
   "source": [
    "\n",
    "req_age_at_school = 10 \n",
    "student_age = input(\"What's your age son! \")\n",
    "student_age = int(student_age)\n",
    "\n",
    "if student_age == req_age_at_school:\n",
    "    print(\"You are eligible\")\n",
    "elif student_age > req_age_at_school:\n",
    "    print(\"You should join higher school\")\n",
    "elif student_age < req_age_at_school:\n",
    "    print (\"You are not eligible\")"
   ]
  },
  {
   "cell_type": "markdown",
   "id": "3c8741c1",
   "metadata": {},
   "source": [
    "## Fouth Program"
   ]
  },
  {
   "cell_type": "code",
   "execution_count": 13,
   "id": "792a5798",
   "metadata": {},
   "outputs": [
    {
     "name": "stdout",
     "output_type": "stream",
     "text": [
      "Your predicted age is 65\n"
     ]
    }
   ],
   "source": [
    "def future_age(age):\n",
    "    new_age=age +20\n",
    "    return new_age\n",
    "    print(new_age)\n",
    "\n",
    "future_predicted_age= future_age(45)\n",
    "print(\"Your predicted age is\", future_predicted_age)"
   ]
  },
  {
   "cell_type": "markdown",
   "id": "7f259771",
   "metadata": {},
   "source": [
    "## Fifth Program"
   ]
  },
  {
   "cell_type": "code",
   "execution_count": 14,
   "id": "b7d82ea3",
   "metadata": {},
   "outputs": [
    {
     "name": "stdout",
     "output_type": "stream",
     "text": [
      "Mon\n",
      "Wed\n",
      "Thu\n",
      "Fri\n",
      "43\n",
      "44\n",
      "45\n",
      "46\n",
      "47\n",
      "48\n",
      "49\n",
      "50\n",
      "51\n",
      "52\n",
      "53\n",
      "54\n",
      "55\n",
      "56\n",
      "57\n",
      "58\n",
      "59\n",
      "60\n",
      "61\n",
      "62\n",
      "63\n",
      "64\n",
      "65\n",
      "66\n",
      "67\n",
      "68\n",
      "69\n",
      "70\n",
      "71\n",
      "72\n",
      "73\n",
      "74\n",
      "75\n",
      "76\n",
      "77\n"
     ]
    }
   ],
   "source": [
    "days = [\"Mon\", \"Tue\", \"Wed\", \"Thu\", \"Fri\", \"Sat\", \"Sun\"]\n",
    "\n",
    "for f in days:\n",
    "    if (f==\"Sat\"):break  #loop stops\n",
    "    elif(f==\"Tue\"):continue  #it will skip f i.e Tue\n",
    "    print(f)\n",
    "\n",
    "    # Loops Done\n",
    "\n",
    "for x in range(43,78):\n",
    "    print(x)"
   ]
  },
  {
   "cell_type": "markdown",
   "id": "61a3f1b5",
   "metadata": {},
   "source": [
    "*I learn loops today.*"
   ]
  }
 ],
 "metadata": {
  "kernelspec": {
   "display_name": "Python 3 (ipykernel)",
   "language": "python",
   "name": "python3"
  },
  "language_info": {
   "codemirror_mode": {
    "name": "ipython",
    "version": 3
   },
   "file_extension": ".py",
   "mimetype": "text/x-python",
   "name": "python",
   "nbconvert_exporter": "python",
   "pygments_lexer": "ipython3",
   "version": "3.9.12"
  }
 },
 "nbformat": 4,
 "nbformat_minor": 5
}
